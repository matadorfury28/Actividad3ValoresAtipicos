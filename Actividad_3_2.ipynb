{
  "nbformat": 4,
  "nbformat_minor": 0,
  "metadata": {
    "colab": {
      "provenance": [],
      "authorship_tag": "ABX9TyNZ6g2xQtnjZlZoyFeaw3Aw",
      "include_colab_link": true
    },
    "kernelspec": {
      "name": "python3",
      "display_name": "Python 3"
    },
    "language_info": {
      "name": "python"
    }
  },
  "cells": [
    {
      "cell_type": "markdown",
      "metadata": {
        "id": "view-in-github",
        "colab_type": "text"
      },
      "source": [
        "<a href=\"https://colab.research.google.com/github/matadorfury28/Actividad3ValoresAtipicos/blob/main/Actividad_3_2.ipynb\" target=\"_parent\"><img src=\"https://colab.research.google.com/assets/colab-badge.svg\" alt=\"Open In Colab\"/></a>"
      ]
    },
    {
      "cell_type": "code",
      "execution_count": null,
      "metadata": {
        "id": "_wVETzPxJ1ft"
      },
      "outputs": [],
      "source": [
        "import pandas as pd\n",
        "import numpy as np\n",
        "import matplotlib.pyplot as plt\n",
        "from flask import Flask, render_template, send_file\n",
        "\n",
        "# Cargar el archivo Excel\n",
        "archivo_excel = 'Gastos y costos 20-23.xlsx'\n",
        "\n",
        "# Cargar los datos para cada año en DataFrames separados\n",
        "df_2020 = pd.read_excel(archivo_excel, sheet_name='2020')\n",
        "df_2021 = pd.read_excel(archivo_excel, sheet_name='2021')\n",
        "df_2022 = pd.read_excel(archivo_excel, sheet_name='2022')\n",
        "df_2023 = pd.read_excel(archivo_excel, sheet_name='2023')\n",
        "\n",
        "# Función para reemplazar valores nulos en un DataFrame\n",
        "def reemplazar_valores_nulos(df):\n",
        "    df.fillna(value=0, inplace=True)  # Reemplaza los valores nulos con 0\n",
        "\n",
        "# Aplicar la función para reemplazar valores nulos en cada DataFrame\n",
        "reemplazar_valores_nulos(df_2020)\n",
        "reemplazar_valores_nulos(df_2021)\n",
        "reemplazar_valores_nulos(df_2022)\n",
        "reemplazar_valores_nulos(df_2023)\n",
        "\n",
        "# Función para eliminar outliers usando el rango intercuartílico\n",
        "def eliminar_outliers_iqr(df, columna):\n",
        "    q1 = df[columna].quantile(0.25)\n",
        "    q3 = df[columna].quantile(0.75)\n",
        "    iqr = q3 - q1\n",
        "    lower_bound = q1 - 1.5 * iqr\n",
        "    upper_bound = q3 + 1.5 * iqr\n",
        "    df = df[(df[columna] >= lower_bound) & (df[columna] <= upper_bound)]\n",
        "    return df\n",
        "\n",
        "# Eliminar outliers en cada DataFrame y generar diagramas de caja\n",
        "columnas_numericas = ['IMPORTE', 'IVA', 'RET ISR', 'RET IVA', 'TOTAL MX', 'TOTAL SAT']\n",
        "for columna in columnas_numericas:\n",
        "    df_2020 = eliminar_outliers_iqr(df_2020, columna)\n",
        "    df_2021 = eliminar_outliers_iqr(df_2021, columna)\n",
        "    df_2022 = eliminar_outliers_iqr(df_2022, columna)\n",
        "    df_2023 = eliminar_outliers_iqr(df_2023, columna)\n",
        "\n",
        "# Guardar los DataFrames procesados en archivos CSV\n",
        "df_2020.to_csv('df_2020.csv', index=False)\n",
        "df_2021.to_csv('df_2021.csv', index=False)\n",
        "df_2022.to_csv('df_2022.csv', index=False)\n",
        "df_2023.to_csv('df_2023.csv', index=False)"
      ]
    }
  ]
}